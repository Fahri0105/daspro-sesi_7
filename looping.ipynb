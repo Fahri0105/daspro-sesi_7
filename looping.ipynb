{
 "cells": [
  {
   "cell_type": "code",
   "execution_count": 7,
   "id": "76d7d24b",
   "metadata": {},
   "outputs": [
    {
     "name": "stdout",
     "output_type": "stream",
     "text": [
      "12345678910"
     ]
    }
   ],
   "source": [
    "#mencetak angka positif\n",
    "for angka in range(1,11):\n",
    "    print(angka,end =\"\")"
   ]
  },
  {
   "cell_type": "code",
   "execution_count": 9,
   "id": "820a11f3",
   "metadata": {},
   "outputs": [
    {
     "name": "stdout",
     "output_type": "stream",
     "text": [
      "0102030405060708090"
     ]
    }
   ],
   "source": [
    "for angka in range (10):\n",
    "     print(angka * 10,end =\"\")"
   ]
  },
  {
   "cell_type": "code",
   "execution_count": 12,
   "id": "526c810c",
   "metadata": {},
   "outputs": [
    {
     "name": "stdout",
     "output_type": "stream",
     "text": [
      "10 9 8 7 6 5 4 3 2 1 "
     ]
    }
   ],
   "source": [
    "#mencetak angak negatif\n",
    "for angka in range (1,11):\n",
    "    print(11-angka,end = \" \")"
   ]
  },
  {
   "cell_type": "code",
   "execution_count": 13,
   "id": "891839d8",
   "metadata": {},
   "outputs": [
    {
     "name": "stdout",
     "output_type": "stream",
     "text": [
      "10987654321"
     ]
    }
   ],
   "source": [
    "for angka in range (10,0,-1):\n",
    "    print(angka,end = \"\")"
   ]
  },
  {
   "cell_type": "code",
   "execution_count": 17,
   "id": "5ccdda4e",
   "metadata": {},
   "outputs": [],
   "source": [
    "for angka in range(1,-11):\n",
    "    print(angka,end = \"\")"
   ]
  },
  {
   "cell_type": "code",
   "execution_count": 34,
   "id": "c7aaed5d",
   "metadata": {},
   "outputs": [
    {
     "name": "stdout",
     "output_type": "stream",
     "text": [
      "-1 -2 -3 -4 -5 -6 -7 -8 -9 -10 "
     ]
    }
   ],
   "source": [
    "no = -1\n",
    "for angka in range(1,11):\n",
    "    no =  angka * -1\n",
    "    print(angka*-1,end =\" \")\n",
    "    "
   ]
  },
  {
   "cell_type": "code",
   "execution_count": 39,
   "id": "d9da1557",
   "metadata": {},
   "outputs": [
    {
     "name": "stdout",
     "output_type": "stream",
     "text": [
      "masukan bilangan : 3\n",
      "3! adalah 6\n",
      "3*2*1* = 6\n"
     ]
    }
   ],
   "source": [
    "#mencari bilangan faktorial\n",
    "\n",
    "bil=int(input('masukan bilangan : '))\n",
    "\n",
    "hasil = 1\n",
    "label = \"\"\n",
    "\n",
    "for angka in range(1, bil+1):\n",
    "    hasil = angka * hasil\n",
    "    if < bil : \n",
    "        label = label + str((bil+1 - angka)) + \"*\"\n",
    "    else :\n",
    "        label = str((bil+1 - angka))\n",
    "    \n",
    "print (f\"{bil}! adalah {hasil}\")\n",
    "print(f\"{label} = {hasil}\")\n",
    "    "
   ]
  },
  {
   "cell_type": "code",
   "execution_count": 50,
   "id": "741110d4",
   "metadata": {},
   "outputs": [
    {
     "name": "stdout",
     "output_type": "stream",
     "text": [
      "masukan angka :3\n",
      "masukan pangkat :2\n",
      "3 = 9\n"
     ]
    }
   ],
   "source": [
    "#mencari bilangan pangkat\n",
    "\n",
    "bil=int(input(\"masukan angka :\"))\n",
    "pangkat=int(input(\"masukan pangkat :\"))\n",
    "\n",
    "hasil = 1\n",
    "\n",
    "for i in range(1):\n",
    "    hasil =  bil ** pangkat\n",
    "print(f\"{bil} = {hasil}\")\n"
   ]
  },
  {
   "cell_type": "code",
   "execution_count": 55,
   "id": "dfcf67af",
   "metadata": {},
   "outputs": [
    {
     "name": "stdout",
     "output_type": "stream",
     "text": [
      "masukan angka :8\n",
      "8 bukan bilangan prima\n"
     ]
    }
   ],
   "source": [
    "#mengecek bilangan prima atau bukan\n",
    "\n",
    "bil=int(input(\"masukan angka :\"))\n",
    "\n",
    "hasil = 0\n",
    "\n",
    "\n",
    "for i in range(1,bil+1):\n",
    "    sisa= bil % i\n",
    "    if sisa == 0:\n",
    "        hasil = hasil + 1\n",
    "if hasil == 2:\n",
    "    print(f\"{bil} bilangan prima\")\n",
    "else :\n",
    "    print(f\"{bil} bukan bilangan prima\")\n",
    "        \n",
    "    "
   ]
  },
  {
   "cell_type": "code",
   "execution_count": null,
   "id": "ecd5c674",
   "metadata": {},
   "outputs": [],
   "source": [
    "bil=int(input(\"masukan angka :\"))\n",
    "keterangan = \"bilangan prima\"\n",
    "\n",
    "\n",
    "for i in range(2,bil):\n",
    "    sisa= bil % i\n",
    "    if sisa == 0:\n",
    "        hasil = hasil + 1\n",
    "\n",
    "        \n",
    "        "
   ]
  },
  {
   "cell_type": "code",
   "execution_count": 2,
   "id": "6530e72f",
   "metadata": {},
   "outputs": [
    {
     "name": "stdout",
     "output_type": "stream",
     "text": [
      "1 2 3 4 5 "
     ]
    }
   ],
   "source": [
    "#break \n",
    "\n",
    "for i in range (1,100):\n",
    "    print(i,end = \" \")\n",
    "    if i ==5:\n",
    "        break"
   ]
  },
  {
   "cell_type": "code",
   "execution_count": 15,
   "id": "50fcaae8",
   "metadata": {},
   "outputs": [
    {
     "name": "stdout",
     "output_type": "stream",
     "text": [
      "masukan kalimat :fahri\n",
      "julama vokal 2\n"
     ]
    }
   ],
   "source": [
    "#looping string\n",
    "kalimat=input(\"masukan kalimat :\")\n",
    "vokal = 0\n",
    "\n",
    "for i in kalimat:\n",
    "    if i == 'a':\n",
    "        vokal += 1\n",
    "    elif i == 'i':\n",
    "        vokal += 1\n",
    "    elif i == 'u':\n",
    "        vokal += 1\n",
    "    elif i == 'e':\n",
    "        vokal += 1\n",
    "    elif i == 'o':\n",
    "        vokal += 1\n",
    "print (f\"julama vokal {vokal}\")\n",
    "    "
   ]
  },
  {
   "cell_type": "code",
   "execution_count": null,
   "id": "18f330e0",
   "metadata": {},
   "outputs": [],
   "source": [
    "#kalimat palindrome atau bukan\n",
    "ulang = \"Y\"\n",
    "while (ulang == \"Y\"):\n",
    "    kalimat = input(\"isikan kalimat :\")\n",
    "    panjang = len(kalimat)\n",
    "    keterangan = \"kalimat palindrome\"\n",
    "\n",
    "\n",
    "    for i in range(0,panjang):\n",
    "        kika = kalimat[i].lower()\n",
    "        kaki = kalimat[panjang - i - 1].lower()\n",
    "        if kika != kaki:\n",
    "            keterangan = \"BUKAN palindrome\"\n",
    "            break\n",
    "        print(f\"{keterangan} \")\n",
    "\n",
    "        jawab = \"\"\n",
    "        while(jawab !=\"Y\" and jawab !=\"T\")\n",
    "        ulang"
   ]
  },
  {
   "cell_type": "code",
   "execution_count": null,
   "id": "32bf0d26",
   "metadata": {},
   "outputs": [],
   "source": []
  }
 ],
 "metadata": {
  "kernelspec": {
   "display_name": "Python 3 (ipykernel)",
   "language": "python",
   "name": "python3"
  },
  "language_info": {
   "codemirror_mode": {
    "name": "ipython",
    "version": 3
   },
   "file_extension": ".py",
   "mimetype": "text/x-python",
   "name": "python",
   "nbconvert_exporter": "python",
   "pygments_lexer": "ipython3",
   "version": "3.11.5"
  }
 },
 "nbformat": 4,
 "nbformat_minor": 5
}
